{
  "nbformat": 4,
  "nbformat_minor": 0,
  "metadata": {
    "colab": {
      "provenance": []
    },
    "kernelspec": {
      "name": "python3",
      "display_name": "Python 3"
    },
    "language_info": {
      "name": "python"
    }
  },
  "cells": [
    {
      "cell_type": "markdown",
      "source": [
        "# PREFACE"
      ],
      "metadata": {
        "id": "tRQfHr0b45VP"
      }
    },
    {
      "cell_type": "markdown",
      "source": [
        "## Identity"
      ],
      "metadata": {
        "id": "UR8-PM0oRj6T"
      }
    },
    {
      "cell_type": "markdown",
      "source": [
        "=======================================\n",
        "\n",
        "Non Graded Challenge 1\n",
        "\n",
        "Nama    : Rafina Dhiya Pradani\n",
        "\n",
        "Batch   : HCK-21\n",
        "\n",
        "======================================="
      ],
      "metadata": {
        "id": "pBKeeoRWRpUO"
      }
    },
    {
      "cell_type": "markdown",
      "source": [
        "## Task #1 Count unique customer_id from a list\n"
      ],
      "metadata": {
        "id": "fxTBd04tDd5t"
      }
    },
    {
      "cell_type": "code",
      "execution_count": 24,
      "metadata": {
        "colab": {
          "base_uri": "https://localhost:8080/"
        },
        "id": "sZnPKzAh3u_4",
        "outputId": "c2f963ca-7e72-467b-d6f0-1cb13d56ff85"
      },
      "outputs": [
        {
          "output_type": "stream",
          "name": "stdout",
          "text": [
            "12\n"
          ]
        }
      ],
      "source": [
        "customer_id = ['B818', 'A461', 'A092', 'A082', 'B341', 'A005', 'A092', 'A461','B219', 'B904', 'A901', 'A083', 'B904', 'A092', 'B341', 'B821','B341', 'B821', 'B904', 'B818', 'A901', 'A083', 'B818', 'A082','B219', 'B219', 'A083', 'A901', 'A082', 'B341', 'B341', 'A083','A082', 'B219', 'B439', 'A461', 'A005', 'A901', 'B341', 'A082','A083', 'A461', 'A083', 'A901', 'A461', 'A083', 'A082', 'A083','B341', 'A901', 'A082', 'A461', 'B219', 'A083', 'B818', 'B821','A092', 'B341', 'A461', 'A092', 'A083', 'B821', 'A092']\n",
        "\n",
        "# Mengubah list customer_id menjadi sebuah set (set) dan menghitung jumlah elemen dalam set (len)\n",
        "unique_customer_ids = len(set(customer_id))\n",
        "\n",
        "# Mencetak nilai dari variabel unique_customer_ids\n",
        "print(unique_customer_ids)"
      ]
    },
    {
      "cell_type": "markdown",
      "source": [
        "## Task #2 Indexing"
      ],
      "metadata": {
        "id": "aSV8fK6--IgH"
      }
    },
    {
      "cell_type": "code",
      "source": [
        "data = [1, 4, 9, 16, 25, 36, 49,  64, 81, 100]\n",
        "\n",
        "# Menggunakan print karena biar bisa muncul ketiga dari variabel yang dipanggil\n",
        "\n",
        "# Menampilkan indeks ke 3 dari variabel data (elemen keempat dalam list)\n",
        "print(data[3])\n",
        "\n",
        "# Menampilkan indeks ke 5 sampai 9 dari variabel data (elemen ke keenam sampai kesepuluh dalam list )\n",
        "print(data[5:9])\n",
        "\n",
        "# Menampilkan seluruh elemen dalam list data secara terbalik\n",
        "print(data [::-1])"
      ],
      "metadata": {
        "id": "Y2B7ng-kDJz7",
        "colab": {
          "base_uri": "https://localhost:8080/"
        },
        "outputId": "5a7041ad-a1b0-4bed-d356-8c957920a6ee"
      },
      "execution_count": 25,
      "outputs": [
        {
          "output_type": "stream",
          "name": "stdout",
          "text": [
            "16\n",
            "[36, 49, 64, 81]\n",
            "[100, 81, 64, 49, 36, 25, 16, 9, 4, 1]\n"
          ]
        }
      ]
    },
    {
      "cell_type": "markdown",
      "source": [
        "## Task #3 Get list of keys available in dictionary & Change 'Jawa Timur' value from 'Madiun'  to 'Surabaya'"
      ],
      "metadata": {
        "id": "RB1N13Ay_vsc"
      }
    },
    {
      "cell_type": "code",
      "source": [
        "provinsi = {'Nanggroe Aceh Darussalam': 'Aceh','Sumatera Selatan': 'Palembang','Kalimantan Barat': 'Pontianak','Jawa Timur': 'Madiun','Sulawesi Selatan': 'Makassar','Maluku': 'Ambon'}\n",
        "\n",
        "# Menggunakan '.keys()' untuk mengambil semua key dari dictionary provinsi\n",
        "keys_list = list(provinsi.keys())\n",
        "# Menampilkan list of keys yang ada dalam dictionary provinsi\n",
        "print(keys_list)\n",
        "\n",
        "# Mengubah value pada 'Jawa Timur' dari 'Madiun' ke 'Surabaya'\n",
        "provinsi['Jawa Timur'] = 'Surabaya'\n",
        "# Menampilkan list dari dictionary provinsi yang value nya sudah diubah\n",
        "print(provinsi)"
      ],
      "metadata": {
        "colab": {
          "base_uri": "https://localhost:8080/"
        },
        "id": "bxqyv60WHmWN",
        "outputId": "808ebf16-3b75-44d0-95a9-9aaaacfdc950"
      },
      "execution_count": null,
      "outputs": [
        {
          "output_type": "stream",
          "name": "stdout",
          "text": [
            "['Nanggroe Aceh Darussalam', 'Sumatera Selatan', 'Kalimantan Barat', 'Jawa Timur', 'Sulawesi Selatan', 'Maluku']\n",
            "{'Nanggroe Aceh Darussalam': 'Aceh', 'Sumatera Selatan': 'Palembang', 'Kalimantan Barat': 'Pontianak', 'Jawa Timur': 'Surabaya', 'Sulawesi Selatan': 'Makassar', 'Maluku': 'Ambon'}\n"
          ]
        }
      ]
    }
  ]
}